{
 "cells": [
  {
   "cell_type": "code",
   "execution_count": 20,
   "id": "0637f868",
   "metadata": {
    "ExecuteTime": {
     "end_time": "2022-07-16T11:21:44.116146Z",
     "start_time": "2022-07-16T11:21:44.106618Z"
    }
   },
   "outputs": [],
   "source": [
    "import os\n",
    "import matplotlib.pyplot as plt\n",
    "import glob\n",
    "from PIL import Image"
   ]
  },
  {
   "cell_type": "code",
   "execution_count": 21,
   "id": "28659fb8",
   "metadata": {
    "ExecuteTime": {
     "end_time": "2022-07-16T11:21:45.943887Z",
     "start_time": "2022-07-16T11:21:45.932906Z"
    }
   },
   "outputs": [],
   "source": [
    "path = './archive (1)/tshirt/*'\n"
   ]
  },
  {
   "cell_type": "code",
   "execution_count": 44,
   "id": "a778c793",
   "metadata": {
    "ExecuteTime": {
     "end_time": "2022-07-16T11:38:33.246601Z",
     "start_time": "2022-07-16T11:38:33.225433Z"
    }
   },
   "outputs": [],
   "source": [
    "img = glob.glob(path)#获取文件夹下所有文件名，并合并路径"
   ]
  },
  {
   "cell_type": "code",
   "execution_count": 47,
   "id": "fb7c818e",
   "metadata": {
    "ExecuteTime": {
     "end_time": "2022-07-16T11:47:34.442870Z",
     "start_time": "2022-07-16T11:46:20.451454Z"
    }
   },
   "outputs": [
    {
     "name": "stdout",
     "output_type": "stream",
     "text": [
      "655\n"
     ]
    }
   ],
   "source": [
    "img_list = []\n",
    "for i in range(len(img)):\n",
    "    t = Image.open(img[i])\n",
    "    img_list.append(np.asarray(t.resize((513,655))))\n",
    "print(len(img_list[0]))"
   ]
  },
  {
   "cell_type": "code",
   "execution_count": null,
   "id": "1f649fb3",
   "metadata": {},
   "outputs": [],
   "source": []
  }
 ],
 "metadata": {
  "kernelspec": {
   "display_name": "Python 3",
   "language": "python",
   "name": "python3"
  },
  "language_info": {
   "codemirror_mode": {
    "name": "ipython",
    "version": 3
   },
   "file_extension": ".py",
   "mimetype": "text/x-python",
   "name": "python",
   "nbconvert_exporter": "python",
   "pygments_lexer": "ipython3",
   "version": "3.6.7"
  },
  "toc": {
   "base_numbering": 1,
   "nav_menu": {},
   "number_sections": true,
   "sideBar": true,
   "skip_h1_title": false,
   "title_cell": "Table of Contents",
   "title_sidebar": "Contents",
   "toc_cell": false,
   "toc_position": {},
   "toc_section_display": true,
   "toc_window_display": false
  },
  "varInspector": {
   "cols": {
    "lenName": 16,
    "lenType": 16,
    "lenVar": 40
   },
   "kernels_config": {
    "python": {
     "delete_cmd_postfix": "",
     "delete_cmd_prefix": "del ",
     "library": "var_list.py",
     "varRefreshCmd": "print(var_dic_list())"
    },
    "r": {
     "delete_cmd_postfix": ") ",
     "delete_cmd_prefix": "rm(",
     "library": "var_list.r",
     "varRefreshCmd": "cat(var_dic_list()) "
    }
   },
   "types_to_exclude": [
    "module",
    "function",
    "builtin_function_or_method",
    "instance",
    "_Feature"
   ],
   "window_display": false
  }
 },
 "nbformat": 4,
 "nbformat_minor": 5
}
